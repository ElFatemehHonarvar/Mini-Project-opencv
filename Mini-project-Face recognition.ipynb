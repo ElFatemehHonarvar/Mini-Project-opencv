{
 "cells": [
  {
   "cell_type": "markdown",
   "metadata": {},
   "source": [
    "# Facial Recignition on Video"
   ]
  },
  {
   "cell_type": "markdown",
   "metadata": {},
   "source": [
    "### Required libraries"
   ]
  },
  {
   "cell_type": "code",
   "execution_count": 4,
   "metadata": {},
   "outputs": [],
   "source": [
    "import cv2\n",
    "import face_recognition\n",
    "import os\n",
    "import numpy as np\n"
   ]
  },
  {
   "cell_type": "markdown",
   "metadata": {},
   "source": [
    "###  Variables"
   ]
  },
  {
   "cell_type": "code",
   "execution_count": 7,
   "metadata": {
    "scrolled": true
   },
   "outputs": [],
   "source": [
    "path = 'pistures_face' # directiry of known images\n",
    "images = []\n",
    "names = []\n",
    "\n",
    "my_list = os.listdir(path)\n",
    "\n",
    "# print (my_list)"
   ]
  },
  {
   "cell_type": "markdown",
   "metadata": {},
   "source": [
    "### Fetch Known Images"
   ]
  },
  {
   "cell_type": "code",
   "execution_count": 3,
   "metadata": {},
   "outputs": [
    {
     "name": "stdout",
     "output_type": "stream",
     "text": [
      "5\n"
     ]
    }
   ],
   "source": [
    "for item in my_list:\n",
    "    img = cv2.imread(os.path.join(path, item))  \n",
    "    images.append(img)\n",
    "    names.append(os.path.splitext(item)[0]) \n",
    "print(len(images)) \n"
   ]
  },
  {
   "cell_type": "markdown",
   "metadata": {},
   "source": [
    "### Encode Known Images"
   ]
  },
  {
   "cell_type": "code",
   "execution_count": 4,
   "metadata": {},
   "outputs": [
    {
     "name": "stdout",
     "output_type": "stream",
     "text": [
      "128\n",
      "5\n"
     ]
    }
   ],
   "source": [
    "def ecncoding(*args):\n",
    "    encod_list = []\n",
    "    for item in args:\n",
    "        item = cv2.cvtColor(item, cv2.COLOR_BGR2RGB)\n",
    "        encode = face_recognition.face_encodings(item)[0]\n",
    "        encod_list.append(encode) \n",
    "    return encod_list\n",
    "\n",
    "known_imgs_encode = ecncoding(*images)\n",
    "print(len(known_imgs_encode[0]))\n",
    "print(len(known_imgs_encode))"
   ]
  },
  {
   "cell_type": "markdown",
   "metadata": {},
   "source": [
    "### Process Frames and Compare Them with Known Images"
   ]
  },
  {
   "cell_type": "code",
   "execution_count": 8,
   "metadata": {},
   "outputs": [],
   "source": [
    "# web_cam_cap = cv2.VideoCapture(0)\n",
    "web_cam_cap = cv2.VideoCapture(\"C:/Users/Elham/shahab_ kan.mp4\") \n",
    "\n",
    "\n",
    "while True:\n",
    "    ret, frame = web_cam_cap.read()\n",
    "    loc_face_frame = face_recognition.face_locations(frame)\n",
    "    \n",
    "    encode_face_frame = face_recognition.face_encodings(\n",
    "        frame, known_face_locations= loc_face_frame\n",
    "    )\n",
    "    \n",
    "    for loc, enc in zip(loc_face_frame, encode_face_frame):\n",
    "        isSame = face_recognition.compare_faces(known_imgs_encode, enc)\n",
    "        distances = face_recognition.face_distance(known_imgs_encode, enc)\n",
    "        index_same_img= np.argmin(distances)\n",
    "    \n",
    "        if isSame[index_same_img]:\n",
    "            name = names[index_same_img].upper()\n",
    "            y1, x2, y2, x1 = loc\n",
    "            fontFace = cv2.FONT_HERSHEY_COMPLEX_SMALL \n",
    "            cv2.rectangle(frame, (x1, y1), (x2, y2), (255, 0, 255), 2)\n",
    "            cv2.rectangle(frame, (x1, y2-10), (x2, y2), (255, 0, 255), cv2.FILLED)\n",
    "            cv2.putText(frame, name,(x1+6, y2-6), fontFace, 0.5, (255, 255, 255),1) \n",
    "        \n",
    "    \n",
    "    \n",
    "    cv2.imshow('webcam', frame)\n",
    "    if cv2.waitKey(1) & 0XFF == ord('q'):\n",
    "        break\n",
    "        \n",
    "web_cam_cap.release()\n",
    "cv2.destroyAllWindows()\n"
   ]
  },
  {
   "cell_type": "markdown",
   "metadata": {},
   "source": [
    "Resize frames if it is needed"
   ]
  },
  {
   "cell_type": "code",
   "execution_count": 13,
   "metadata": {},
   "outputs": [],
   "source": [
    "web_cam_cap = cv2.VideoCapture(0)\n",
    "# web_cam_cap = cv2.VideoCapture(\"C:/Users/Elham/shahab_ kan.mp4\") \n",
    "while True:\n",
    "    ret, frame = web_cam_cap.read()\n",
    "    frame_small = cv2.resize(frame, (0, 0), fx= 0.25, fy= 0.25)\n",
    "    frame_small = cv2.cvtColor(frame_small, cv2.COLOR_BGR2RGB)\n",
    "    loc_face_frame = face_recognition.face_locations(frame_small)\n",
    "    encode_face_frame = face_recognition.face_encodings(frame_small, known_face_locations= loc_face_frame)\n",
    "\n",
    "\n",
    "    for loc, enc in zip(loc_face_frame, encode_face_frame):\n",
    "        isSame = face_recognition.compare_faces(known_imgs_encode, enc)\n",
    "        distances = face_recognition.face_distance(known_imgs_encode, enc)\n",
    "        index_same_img= np.argmin(distances)\n",
    "    \n",
    "        if isSame[index_same_img]:\n",
    "            name = names[index_same_img].upper()\n",
    "            y1, x2, y2, x1 = loc\n",
    "            y1, x2, y2, x1 = y1*4, x2*4, y2*4, x1*4\n",
    "            fontFace = cv2.FONT_HERSHEY_COMPLEX_SMALL \n",
    "            cv2.rectangle(frame, (x1, y1), (x2, y2), (255, 0, 255), 2)\n",
    "            cv2.rectangle(frame, (x1, y2-10), (x2, y2), (255, 0, 255), cv2.FILLED)\n",
    "            cv2.putText(frame, name,(x1+6, y2-6), fontFace, 0.5, (255, 255, 255),1) \n",
    "        \n",
    "    \n",
    "    \n",
    "    cv2.imshow('web', frame)\n",
    "    if cv2.waitKey(1) & 0XFF == ord('q'):\n",
    "        break\n",
    "        \n",
    "web_cam_cap.release()\n",
    "cv2.destroyAllWindows()"
   ]
  }
 ],
 "metadata": {
  "kernelspec": {
   "display_name": "Python 3 (ipykernel)",
   "language": "python",
   "name": "python3"
  },
  "language_info": {
   "codemirror_mode": {
    "name": "ipython",
    "version": 3
   },
   "file_extension": ".py",
   "mimetype": "text/x-python",
   "name": "python",
   "nbconvert_exporter": "python",
   "pygments_lexer": "ipython3",
   "version": "3.7.13"
  },
  "toc": {
   "base_numbering": 1,
   "nav_menu": {},
   "number_sections": true,
   "sideBar": true,
   "skip_h1_title": false,
   "title_cell": "Table of Contents",
   "title_sidebar": "Contents",
   "toc_cell": false,
   "toc_position": {},
   "toc_section_display": true,
   "toc_window_display": false
  },
  "varInspector": {
   "cols": {
    "lenName": 16,
    "lenType": 16,
    "lenVar": 40
   },
   "kernels_config": {
    "python": {
     "delete_cmd_postfix": "",
     "delete_cmd_prefix": "del ",
     "library": "var_list.py",
     "varRefreshCmd": "print(var_dic_list())"
    },
    "r": {
     "delete_cmd_postfix": ") ",
     "delete_cmd_prefix": "rm(",
     "library": "var_list.r",
     "varRefreshCmd": "cat(var_dic_list()) "
    }
   },
   "types_to_exclude": [
    "module",
    "function",
    "builtin_function_or_method",
    "instance",
    "_Feature"
   ],
   "window_display": false
  }
 },
 "nbformat": 4,
 "nbformat_minor": 4
}
